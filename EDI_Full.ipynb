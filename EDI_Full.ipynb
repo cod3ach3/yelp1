{
  "nbformat": 4,
  "nbformat_minor": 0,
  "metadata": {
    "colab": {
      "name": "EDI_Full.ipynb",
      "provenance": [],
      "mount_file_id": "1s0Jjp0OGkC5NRAQHSNM5Dnf-LmjKVBUz",
      "authorship_tag": "ABX9TyNavHXVJYugRBpu9pJEyhN4",
      "include_colab_link": true
    },
    "kernelspec": {
      "name": "python3",
      "display_name": "Python 3"
    }
  },
  "cells": [
    {
      "cell_type": "markdown",
      "metadata": {
        "id": "view-in-github",
        "colab_type": "text"
      },
      "source": [
        "<a href=\"https://colab.research.google.com/github/cod3ach3/yelp1/blob/master/EDI_Full.ipynb\" target=\"_parent\"><img src=\"https://colab.research.google.com/assets/colab-badge.svg\" alt=\"Open In Colab\"/></a>"
      ]
    },
    {
      "cell_type": "code",
      "metadata": {
        "id": "vt6L5yc4nSB-"
      },
      "source": [
        "import os"
      ],
      "execution_count": null,
      "outputs": []
    },
    {
      "cell_type": "code",
      "metadata": {
        "id": "H2uwudmln0w8"
      },
      "source": [
        "#Creating the directories\r\n",
        "\r\n",
        "# The directory where we will save the dataset is called \"weedandcrops\"\r\n",
        "base_dir = './weedandcrops'\r\n",
        "os.makedirs(base_dir, exist_ok=True)\r\n",
        "\r\n",
        "# Directorio para nuestro train, validation y test\r\n",
        "train_dir = os.path.join(base_dir, 'train')\r\n",
        "os.makedirs(train_dir, exist_ok=True)\r\n",
        "\r\n",
        "validation_dir = os.path.join(base_dir, 'validation')\r\n",
        "os.makedirs(validation_dir, exist_ok=True)\r\n",
        "\r\n",
        "test_dir = os.path.join(base_dir, 'test')\r\n",
        "os.makedirs(test_dir, exist_ok=True)\r\n",
        "\r\n",
        "#Directory for training grass, soil, soybean, weed\r\n",
        "train_grass_dir = os.path.join(train_dir, 'grass')\r\n",
        "os.makedirs(train_grass_dir, exist_ok=True)\r\n",
        "\r\n",
        "train_soil_dir = os.path.join(train_dir, 'soil')\r\n",
        "os.makedirs(train_soil_dir, exist_ok=True)\r\n",
        "\r\n",
        "train_soybean_dir = os.path.join(train_dir, 'soybean')\r\n",
        "os.makedirs(train_soybean_dir, exist_ok=True)\r\n",
        "\r\n",
        "train_weed_dir = os.path.join(train_dir, 'weed')\r\n",
        "os.makedirs(train_weed_dir, exist_ok=True)\r\n",
        "\r\n",
        "#Directory for validation of grass, soil, soybean, weed\r\n",
        "validation_grass_dir = os.path.join(validation_dir, 'grass')\r\n",
        "os.makedirs(validation_grass_dir, exist_ok=True)\r\n",
        "\r\n",
        "validation_soil_dir = os.path.join(validation_dir, 'soil')\r\n",
        "os.makedirs(validation_soil_dir, exist_ok=True)\r\n",
        "\r\n",
        "validation_soybean_dir = os.path.join(validation_dir, 'soybean')\r\n",
        "os.makedirs(validation_soybean_dir, exist_ok=True)\r\n",
        "\r\n",
        "validation_weed_dir = os.path.join(validation_dir, 'weed')\r\n",
        "os.makedirs(validation_weed_dir, exist_ok=True)\r\n",
        "\r\n",
        "#Directory for testing of grass, soil, soybean, weed\r\n",
        "test_grass_dir = os.path.join(test_dir, 'grass')\r\n",
        "os.makedirs(test_grass_dir, exist_ok=True)\r\n",
        "\r\n",
        "test_soil_dir = os.path.join(test_dir, 'soil')\r\n",
        "os.makedirs(test_soil_dir, exist_ok=True)\r\n",
        "\r\n",
        "test_soybean_dir = os.path.join(test_dir, 'soybean')\r\n",
        "os.makedirs(test_soybean_dir, exist_ok=True)\r\n",
        "\r\n",
        "test_weed_dir = os.path.join(test_dir, 'weed')\r\n",
        "os.makedirs(test_weed_dir, exist_ok=True)\r\n"
      ],
      "execution_count": null,
      "outputs": []
    },
    {
      "cell_type": "code",
      "metadata": {
        "id": "LsultC-sn00j"
      },
      "source": [
        "import shutil\r\n",
        "\r\n",
        "# Original file from which we are going to copy the images\r\n",
        "original_dataset_dir_soil = 'drive/MyDrive/dataset/soil'\r\n",
        "original_dataset_dir_soybean = 'drive/MyDrive/dataset/soybean'\r\n",
        "original_dataset_dir_grass = 'drive/MyDrive/dataset/grass'\r\n",
        "original_dataset_dir_weed = 'drive/MyDrive/dataset/broadleaf'\r\n",
        "\r\n",
        "####SOIL####\r\n",
        "# We copied the first 1949 images from soil to train_soil_dir\r\n",
        "fnames = ['{}.tif'.format(i) for i in range(1,1950)]\r\n",
        "for fname in fnames:\r\n",
        "    src = os.path.join(original_dataset_dir_soil, fname)\r\n",
        "    dst = os.path.join(train_soil_dir, fname)\r\n",
        "    shutil.copyfile(src, dst)\r\n",
        "\r\n",
        "# The next 650 to validation_soil_dir\r\n",
        "fnames = ['{}.tif'.format(i) for i in range(1950, 2600)]\r\n",
        "for fname in fnames:\r\n",
        "    src = os.path.join(original_dataset_dir_soil, fname)\r\n",
        "    dst = os.path.join(validation_soil_dir, fname)\r\n",
        "    shutil.copyfile(src, dst)\r\n",
        "    \r\n",
        "# We copy the following 650 to test_soil_dir\r\n",
        "fnames = ['{}.tif'.format(i) for i in range(2600, 3250)]\r\n",
        "for fname in fnames:\r\n",
        "    src = os.path.join(original_dataset_dir_soil, fname)\r\n",
        "    dst = os.path.join(test_soil_dir, fname)\r\n",
        "    shutil.copyfile(src, dst)\r\n",
        "    \r\n",
        "####SOYBEAN####\r\n",
        "# We copy the first 4426 images from soybean to train_soybean_dir\r\n",
        "fnames = ['{}.tif'.format(i) for i in range(1,4427)]\r\n",
        "for fname in fnames:\r\n",
        "    src = os.path.join(original_dataset_dir_soybean, fname)\r\n",
        "    dst = os.path.join(train_soybean_dir, fname)\r\n",
        "    shutil.copyfile(src, dst)\r\n",
        "\r\n",
        "# The following 1475 to validation_soybean_dir\r\n",
        "fnames = ['{}.tif'.format(i) for i in range(4427, 5902)]\r\n",
        "for fname in fnames:\r\n",
        "    src = os.path.join(original_dataset_dir_soybean, fname)\r\n",
        "    dst = os.path.join(validation_soybean_dir, fname)\r\n",
        "    shutil.copyfile(src, dst)\r\n",
        "    \r\n",
        "# Copy the following 1475 to test_soybean_dir\r\n",
        "fnames = ['{}.tif'.format(i) for i in range(5902, 7377)]\r\n",
        "for fname in fnames:\r\n",
        "    src = os.path.join(original_dataset_dir_soybean, fname)\r\n",
        "    dst = os.path.join(test_soybean_dir, fname)\r\n",
        "    shutil.copyfile(src, dst)\r\n",
        "    \r\n",
        "####GRASS####\r\n",
        "# Copy the first 2112 grass images to train_grass_dir\r\n",
        "fnames = ['{}.tif'.format(i) for i in range(1,2113)]\r\n",
        "for fname in fnames:\r\n",
        "    src = os.path.join(original_dataset_dir_grass, fname)\r\n",
        "    dst = os.path.join(train_grass_dir, fname)\r\n",
        "    shutil.copyfile(src, dst)\r\n",
        "\r\n",
        "# The next 704 to validation_grass_dir\r\n",
        "fnames = ['{}.tif'.format(i) for i in range(2113, 2817)]\r\n",
        "for fname in fnames:\r\n",
        "    src = os.path.join(original_dataset_dir_grass, fname)\r\n",
        "    dst = os.path.join(validation_grass_dir, fname)\r\n",
        "    shutil.copyfile(src, dst)\r\n",
        "    \r\n",
        "# We copy the following 704 to test_grass_dir\r\n",
        "fnames = ['{}.tif'.format(i) for i in range(2817, 3521)]\r\n",
        "for fname in fnames:\r\n",
        "    src = os.path.join(original_dataset_dir_grass, fname)\r\n",
        "    dst = os.path.join(test_grass_dir, fname)\r\n",
        "    shutil.copyfile(src, dst)\r\n",
        "\r\n",
        "####WEED####\r\n",
        "# We copy the first 715 images of weed to train_weed_dir\r\n",
        "fnames = ['{}.tif'.format(i) for i in range(1,716)]\r\n",
        "for fname in fnames:\r\n",
        "    src = os.path.join(original_dataset_dir_weed, fname)\r\n",
        "    dst = os.path.join(train_weed_dir, fname)\r\n",
        "    shutil.copyfile(src, dst)\r\n",
        "\r\n",
        "# The next 238 to validation_weed_dir\r\n",
        "fnames = ['{}.tif'.format(i) for i in range(716, 954)]\r\n",
        "for fname in fnames:\r\n",
        "    src = os.path.join(original_dataset_dir_weed, fname)\r\n",
        "    dst = os.path.join(validation_weed_dir, fname)\r\n",
        "    shutil.copyfile(src, dst)\r\n",
        "    \r\n",
        "# We copy the following 238 to test_weed_dir\r\n",
        "fnames = ['{}.tif'.format(i) for i in range(954, 1192)]\r\n",
        "for fname in fnames:\r\n",
        "    src = os.path.join(original_dataset_dir_weed, fname)\r\n",
        "    dst = os.path.join(test_weed_dir, fname)\r\n",
        "    shutil.copyfile(src, dst)"
      ],
      "execution_count": null,
      "outputs": []
    },
    {
      "cell_type": "code",
      "metadata": {
        "id": "Ac17nVmFn029"
      },
      "source": [
        "import keras\r\n",
        "keras.__version__\r\n",
        "from keras import layers\r\n",
        "from keras import models\r\n",
        "from keras import optimizers"
      ],
      "execution_count": null,
      "outputs": []
    },
    {
      "cell_type": "code",
      "metadata": {
        "colab": {
          "base_uri": "https://localhost:8080/"
        },
        "id": "1gVesoIjn05h",
        "outputId": "98e39e96-267a-4ec1-effb-463adc73f62a"
      },
      "source": [
        "model = models.Sequential()\r\n",
        "model.add(layers.Conv2D(32, (3, 3), activation='relu',\r\n",
        "                        input_shape=(150,150,3))) #(3 initial channels * 32 nodes * 3pix * 3pix) +32 bias = 896 param\r\n",
        "model.add(layers.MaxPooling2D((2, 2)))\r\n",
        "model.add(layers.Conv2D(64, (3, 3), activation='relu')) #(32 back nodes * 64 nodes * 3pix * 3pix) +64 bias = 18496 param\r\n",
        "model.add(layers.MaxPooling2D((2, 2)))\r\n",
        "model.add(layers.Conv2D(128, (3, 3), activation='relu')) #(64 back nodes * 128 nodes * 3pix * 3pix) +128 bias = 73856 param\r\n",
        "model.add(layers.MaxPooling2D((2, 2)))\r\n",
        "model.add(layers.Conv2D(128, (3, 3), activation='relu')) #(128 back nodes * 128 nodes * 3pix * 3pix) +128 bias = 147584 param\r\n",
        "model.add(layers.MaxPooling2D((2, 2)))\r\n",
        "model.add(layers.Flatten()) # 7 * 7 * 128 from the previous max pooling\r\n",
        "model.add(layers.Dropout(0.5))\r\n",
        "model.add(layers.Dense(512, activation='relu')) #(6272 from previous layer * 512 dense layer) +512 bias = 3211776\r\n",
        "model.add(layers.Dense(4, activation='softmax')) #(512 previous layer * 4 dense layer) +4 bias = 2052\r\n",
        "model.summary()"
      ],
      "execution_count": null,
      "outputs": [
        {
          "output_type": "stream",
          "text": [
            "Model: \"sequential\"\n",
            "_________________________________________________________________\n",
            "Layer (type)                 Output Shape              Param #   \n",
            "=================================================================\n",
            "conv2d (Conv2D)              (None, 148, 148, 32)      896       \n",
            "_________________________________________________________________\n",
            "max_pooling2d (MaxPooling2D) (None, 74, 74, 32)        0         \n",
            "_________________________________________________________________\n",
            "conv2d_1 (Conv2D)            (None, 72, 72, 64)        18496     \n",
            "_________________________________________________________________\n",
            "max_pooling2d_1 (MaxPooling2 (None, 36, 36, 64)        0         \n",
            "_________________________________________________________________\n",
            "conv2d_2 (Conv2D)            (None, 34, 34, 128)       73856     \n",
            "_________________________________________________________________\n",
            "max_pooling2d_2 (MaxPooling2 (None, 17, 17, 128)       0         \n",
            "_________________________________________________________________\n",
            "conv2d_3 (Conv2D)            (None, 15, 15, 128)       147584    \n",
            "_________________________________________________________________\n",
            "max_pooling2d_3 (MaxPooling2 (None, 7, 7, 128)         0         \n",
            "_________________________________________________________________\n",
            "flatten (Flatten)            (None, 6272)              0         \n",
            "_________________________________________________________________\n",
            "dropout (Dropout)            (None, 6272)              0         \n",
            "_________________________________________________________________\n",
            "dense (Dense)                (None, 512)               3211776   \n",
            "_________________________________________________________________\n",
            "dense_1 (Dense)              (None, 4)                 2052      \n",
            "=================================================================\n",
            "Total params: 3,454,660\n",
            "Trainable params: 3,454,660\n",
            "Non-trainable params: 0\n",
            "_________________________________________________________________\n"
          ],
          "name": "stdout"
        }
      ]
    },
    {
      "cell_type": "code",
      "metadata": {
        "id": "cTPgqKfIn08k"
      },
      "source": [
        "model.compile(loss='categorical_crossentropy',\r\n",
        "              optimizer='rmsprop',\r\n",
        "              metrics=['acc'])"
      ],
      "execution_count": null,
      "outputs": []
    },
    {
      "cell_type": "code",
      "metadata": {
        "colab": {
          "base_uri": "https://localhost:8080/",
          "height": 336
        },
        "id": "TBnyZ44wCHwZ",
        "outputId": "8261a5a5-e172-4ad5-f17f-93d7bdf3030a"
      },
      "source": [
        "from keras.preprocessing import image\n",
        " \n",
        "from keras.preprocessing.image import ImageDataGenerator\n",
        " \n",
        "train_datagen = ImageDataGenerator(\n",
        "    rescale=1./255,\n",
        "    rotation_range=40,\n",
        "    width_shift_range=0.2,\n",
        "    height_shift_range=0.2,\n",
        "    shear_range=0.2,\n",
        "    zoom_range=0.2,\n",
        "    horizontal_flip=True,)\n",
        " \n",
        "test_datagen = ImageDataGenerator(rescale=1./255)\n",
        " \n",
        "train_generator = train_datagen.flow_from_directory(\n",
        "        train_dir,\n",
        "        target_size=(150, 150),\n",
        "        color_mode=\"rgb\",\n",
        "        batch_size=92,\n",
        "        class_mode='categorical')\n",
        " \n",
        "validation_generator = test_datagen.flow_from_directory(\n",
        "        validation_dir,\n",
        "        target_size=(150, 150),\n",
        "        color_mode=\"rgb\",\n",
        "        batch_size=31,\n",
        "        class_mode='categorical')\n",
        " \n",
        "test_generator = test_datagen.flow_from_directory(\n",
        "        test_dir,\n",
        "        target_size=(150, 150),\n",
        "        color_mode=\"rgb\",\n",
        "        batch_size=31,\n",
        "        class_mode='categorical')"
      ],
      "execution_count": 1,
      "outputs": [
        {
          "output_type": "error",
          "ename": "NameError",
          "evalue": "ignored",
          "traceback": [
            "\u001b[0;31m---------------------------------------------------------------------------\u001b[0m",
            "\u001b[0;31mNameError\u001b[0m                                 Traceback (most recent call last)",
            "\u001b[0;32m<ipython-input-1-ccdc65165a40>\u001b[0m in \u001b[0;36m<module>\u001b[0;34m()\u001b[0m\n\u001b[1;32m     15\u001b[0m \u001b[0;34m\u001b[0m\u001b[0m\n\u001b[1;32m     16\u001b[0m train_generator = train_datagen.flow_from_directory(\n\u001b[0;32m---> 17\u001b[0;31m         \u001b[0mtrain_dir\u001b[0m\u001b[0;34m,\u001b[0m\u001b[0;34m\u001b[0m\u001b[0;34m\u001b[0m\u001b[0m\n\u001b[0m\u001b[1;32m     18\u001b[0m         \u001b[0mtarget_size\u001b[0m\u001b[0;34m=\u001b[0m\u001b[0;34m(\u001b[0m\u001b[0;36m150\u001b[0m\u001b[0;34m,\u001b[0m \u001b[0;36m150\u001b[0m\u001b[0;34m)\u001b[0m\u001b[0;34m,\u001b[0m\u001b[0;34m\u001b[0m\u001b[0;34m\u001b[0m\u001b[0m\n\u001b[1;32m     19\u001b[0m         \u001b[0mcolor_mode\u001b[0m\u001b[0;34m=\u001b[0m\u001b[0;34m\"rgb\"\u001b[0m\u001b[0;34m,\u001b[0m\u001b[0;34m\u001b[0m\u001b[0;34m\u001b[0m\u001b[0m\n",
            "\u001b[0;31mNameError\u001b[0m: name 'train_dir' is not defined"
          ]
        }
      ]
    },
    {
      "cell_type": "code",
      "metadata": {
        "colab": {
          "base_uri": "https://localhost:8080/"
        },
        "id": "pX0uaatINH-v",
        "outputId": "44bd9af5-4dfc-45f0-998e-25912400d0b8"
      },
      "source": [
        "import math\r\n",
        "training_samples =9202\r\n",
        "batch_size_training_generator=92\r\n",
        "validation_samples =3067\r\n",
        "batch_size_validation_generator=31\r\n",
        "\r\n",
        "history = model.fit_generator(\r\n",
        "      train_generator,\r\n",
        "      steps_per_epoch=math.ceil(training_samples/batch_size_training_generator),\r\n",
        "      epochs=15,\r\n",
        "      validation_data=validation_generator,\r\n",
        "      validation_steps=math.ceil(validation_samples/batch_size_validation_generator))"
      ],
      "execution_count": null,
      "outputs": [
        {
          "output_type": "stream",
          "text": [
            "/usr/local/lib/python3.6/dist-packages/tensorflow/python/keras/engine/training.py:1844: UserWarning: `Model.fit_generator` is deprecated and will be removed in a future version. Please use `Model.fit`, which supports generators.\n",
            "  warnings.warn('`Model.fit_generator` is deprecated and '\n"
          ],
          "name": "stderr"
        },
        {
          "output_type": "stream",
          "text": [
            "Epoch 1/15\n",
            "101/101 [==============================] - 477s 5s/step - loss: 0.9707 - acc: 0.5987 - val_loss: 0.4567 - val_acc: 0.8337\n",
            "Epoch 2/15\n",
            "101/101 [==============================] - 474s 5s/step - loss: 0.6118 - acc: 0.7792 - val_loss: 0.4300 - val_acc: 0.8435\n",
            "Epoch 3/15\n",
            "101/101 [==============================] - 473s 5s/step - loss: 0.4556 - acc: 0.8235 - val_loss: 0.6809 - val_acc: 0.7189\n",
            "Epoch 4/15\n",
            "101/101 [==============================] - 474s 5s/step - loss: 0.4246 - acc: 0.8423 - val_loss: 0.2694 - val_acc: 0.8924\n",
            "Epoch 5/15\n",
            "101/101 [==============================] - 473s 5s/step - loss: 0.3270 - acc: 0.8850 - val_loss: 0.2424 - val_acc: 0.9100\n",
            "Epoch 6/15\n",
            "101/101 [==============================] - 475s 5s/step - loss: 0.3217 - acc: 0.8776 - val_loss: 0.2031 - val_acc: 0.9302\n",
            "Epoch 7/15\n",
            "101/101 [==============================] - 473s 5s/step - loss: 0.2908 - acc: 0.8971 - val_loss: 0.1625 - val_acc: 0.9413\n",
            "Epoch 8/15\n",
            "101/101 [==============================] - 474s 5s/step - loss: 0.2691 - acc: 0.9051 - val_loss: 0.2203 - val_acc: 0.9152\n",
            "Epoch 9/15\n",
            "101/101 [==============================] - 475s 5s/step - loss: 0.2930 - acc: 0.9140 - val_loss: 0.1421 - val_acc: 0.9459\n",
            "Epoch 10/15\n",
            "101/101 [==============================] - 473s 5s/step - loss: 0.2213 - acc: 0.9201 - val_loss: 0.1617 - val_acc: 0.9472\n",
            "Epoch 11/15\n",
            "101/101 [==============================] - 473s 5s/step - loss: 0.2243 - acc: 0.9255 - val_loss: 0.1004 - val_acc: 0.9654\n",
            "Epoch 12/15\n",
            "101/101 [==============================] - 474s 5s/step - loss: 0.1841 - acc: 0.9343 - val_loss: 0.1546 - val_acc: 0.9439\n",
            "Epoch 13/15\n",
            "101/101 [==============================] - 475s 5s/step - loss: 0.2491 - acc: 0.9227 - val_loss: 0.2611 - val_acc: 0.9292\n",
            "Epoch 14/15\n",
            "101/101 [==============================] - 474s 5s/step - loss: 0.2613 - acc: 0.9250 - val_loss: 0.0797 - val_acc: 0.9713\n",
            "Epoch 15/15\n",
            "101/101 [==============================] - 474s 5s/step - loss: 0.2045 - acc: 0.9325 - val_loss: 0.1089 - val_acc: 0.9605\n"
          ],
          "name": "stdout"
        }
      ]
    },
    {
      "cell_type": "code",
      "metadata": {
        "id": "RmyqN6sdNIB3"
      },
      "source": [
        "model.save('model_weedcrops.h5')"
      ],
      "execution_count": null,
      "outputs": []
    },
    {
      "cell_type": "code",
      "metadata": {
        "colab": {
          "base_uri": "https://localhost:8080/",
          "height": 545
        },
        "id": "ZwrNGXAMNIDh",
        "outputId": "782c20fd-0c24-44d8-f337-95d4c7a572fa"
      },
      "source": [
        "import matplotlib.pyplot as plt\r\n",
        "\r\n",
        "acc = history.history['acc']\r\n",
        "val_acc = history.history['val_acc']\r\n",
        "loss = history.history['loss']\r\n",
        "val_loss = history.history['val_loss']\r\n",
        "\r\n",
        "epochs = range(len(acc))\r\n",
        "\r\n",
        "plt.plot(epochs, acc, 'bo', label='Training acc')\r\n",
        "plt.plot(epochs, val_acc, 'b', label='Validation acc')\r\n",
        "plt.title('Training and validation accuracy')\r\n",
        "plt.legend()\r\n",
        "\r\n",
        "plt.figure()\r\n",
        "\r\n",
        "plt.plot(epochs, loss, 'bo', label='Training loss')\r\n",
        "plt.plot(epochs, val_loss, 'b', label='Validation loss')\r\n",
        "plt.title('Training and validation loss')\r\n",
        "plt.legend()\r\n",
        "\r\n",
        "plt.show()"
      ],
      "execution_count": null,
      "outputs": [
        {
          "output_type": "display_data",
          "data": {
            "image/png": "[encoded data removed]",
            "text/plain": [
              "<Figure size 432x288 with 1 Axes>"
            ]
          },
          "metadata": {
            "tags": [],
            "needs_background": "light"
          }
        },
        {
          "output_type": "display_data",
          "data": {
            "image/png": "[encoded data removed]",
            "text/plain": [
              "<Figure size 432x288 with 1 Axes>"
            ]
          },
          "metadata": {
            "tags": [],
            "needs_background": "light"
          }
        }
      ]
    },
    {
      "cell_type": "code",
      "metadata": {
        "colab": {
          "base_uri": "https://localhost:8080/"
        },
        "id": "gnuPVqV7NIGt",
        "outputId": "f8d5f4e3-7ff2-4fdf-b68d-bd60a7ce679a"
      },
      "source": [
        "test_samples =3067\r\n",
        "batch_size_test=31\r\n",
        "\r\n",
        "score= model.evaluate_generator(test_generator, steps = math.ceil(test_samples/batch_size_test))"
      ],
      "execution_count": null,
      "outputs": [
        {
          "output_type": "stream",
          "text": [
            "/usr/local/lib/python3.6/dist-packages/tensorflow/python/keras/engine/training.py:1877: UserWarning: `Model.evaluate_generator` is deprecated and will be removed in a future version. Please use `Model.evaluate`, which supports generators.\n",
            "  warnings.warn('`Model.evaluate_generator` is deprecated and '\n"
          ],
          "name": "stderr"
        }
      ]
    },
    {
      "cell_type": "code",
      "metadata": {
        "colab": {
          "base_uri": "https://localhost:8080/"
        },
        "id": "ZTbvry01NIJk",
        "outputId": "63c0e710-eda7-44d9-8152-0a216529d7f6"
      },
      "source": [
        "print(\"\\nTest accuracy: %.1f%%\" % (100.0 * score[1]))"
      ],
      "execution_count": null,
      "outputs": [
        {
          "output_type": "stream",
          "text": [
            "\n",
            "Test accuracy: 95.8%\n"
          ],
          "name": "stdout"
        }
      ]
    },
    {
      "cell_type": "code",
      "metadata": {
        "colab": {
          "base_uri": "https://localhost:8080/"
        },
        "id": "-RET_g1Rptoa",
        "outputId": "dbf4c227-35af-4166-bc07-d2adf5fef617"
      },
      "source": [
        "#When predicting, you have to respect this shape even if you have only one image. Your input should be of shape: [1, image_width, image_height, number_of_channels]\r\n",
        "from PIL import Image\r\n",
        "import numpy as np\r\n",
        "from skimage import transform\r\n",
        "\r\n",
        "def load(filename):\r\n",
        "   np_image = Image.open(filename) #Open the image\r\n",
        "   np_image = np.array(np_image).astype('float32')/255 #Creates a numpy array as float and divides by 255.\r\n",
        "   np_image = transform.resize(np_image, (150, 150, 3)) #Resize a 150x150 con 3 channels\r\n",
        "   # La reescalamos a (1, 150, 150, 3)\r\n",
        "   #Since you trained your model on mini-batches, your input is a tensor of shape [batch_size, image_width, image_height, number_of_channels].\r\n",
        "   np_image = np.expand_dims(np_image, axis=0) #Insert a new axis that will appear at the axis position in the expanded array shape.\r\n",
        "   return np_image\r\n",
        "\r\n",
        "#We show the labels\r\n",
        "label_map = (test_generator.class_indices)\r\n",
        "print (label_map)\r\n",
        "\r\n",
        "#We take an image of the test. The correct label is weed\r\n",
        "image_to_predict = load('./weedandcrops/test/weed/1014.tif')\r\n",
        "result = model.predict(image_to_predict)\r\n",
        "result= np.around(result,decimals=3)\r\n",
        "result=result*100\r\n",
        "print (result)"
      ],
      "execution_count": null,
      "outputs": [
        {
          "output_type": "stream",
          "text": [
            "{'grass': 0, 'soil': 1, 'soybean': 2, 'weed': 3}\n",
            "[[ 7.5000005  0.         0.1       92.4      ]]\n"
          ],
          "name": "stdout"
        }
      ]
    },
    {
      "cell_type": "code",
      "metadata": {
        "colab": {
          "base_uri": "https://localhost:8080/",
          "height": 269
        },
        "id": "Ng5916tVptqx",
        "outputId": "71353ea6-8ae4-4b60-b0bc-f660e199c67e"
      },
      "source": [
        "image_to_predict= np.squeeze(image_to_predict,axis=0)\r\n",
        "image_to_predict.shape\r\n",
        "\r\n",
        "from matplotlib import pyplot as plt\r\n",
        "plt.imshow(image_to_predict, interpolation='nearest')\r\n",
        "plt.show()"
      ],
      "execution_count": null,
      "outputs": [
        {
          "output_type": "display_data",
          "data": {
            "image/png": "[encoded data removed]",
            "text/plain": [
              "<Figure size 432x288 with 1 Axes>"
            ]
          },
          "metadata": {
            "tags": [],
            "needs_background": "light"
          }
        }
      ]
    },
    {
      "cell_type": "code",
      "metadata": {
        "id": "8iulkiBhptuB"
      },
      "source": [
        ""
      ],
      "execution_count": null,
      "outputs": []
    }
  ]
}